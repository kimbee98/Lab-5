{
 "cells": [
  {
   "cell_type": "code",
   "execution_count": 13,
   "id": "2101d8b2-fc30-411a-ad93-16448a3a29cc",
   "metadata": {
    "tags": []
   },
   "outputs": [
    {
     "name": "stdout",
     "output_type": "stream",
     "text": [
      "Let's play rock-paper-scissors!\n",
      "\n"
     ]
    },
    {
     "name": "stdin",
     "output_type": "stream",
     "text": [
      "Choose 'rock', 'paper', or 'scissors':  paper\n"
     ]
    },
    {
     "name": "stdout",
     "output_type": "stream",
     "text": [
      "\n",
      "Bot chooses scissors.\n",
      "\n",
      "Bot wins!\n"
     ]
    }
   ],
   "source": [
    "import random\n",
    "\n",
    "print(\"Let's play rock-paper-scissors!\\n\")\n",
    "\n",
    "# Define the possible choices\n",
    "choices = [\"rock\", \"paper\", \"scissors\"]\n",
    "\n",
    "# Ask the user to choose\n",
    "user_choice = input(\"Choose 'rock', 'paper', or 'scissors': \").lower()\n",
    "\n",
    "# Generate the Bot's choice\n",
    "bot_choice = random.choice(choices)\n",
    "\n",
    "print(f\"\\nBot chooses {bot_choice}.\\n\")\n",
    "# Determine the winner\n",
    "if user_choice == bot_choice:\n",
    "    print(\"It's a tie!\")\n",
    "elif (user_choice == \"rock\" and bot_choice == \"scissors\") or \\\n",
    "     (user_choice == \"paper\" and bot_choice == \"rock\") or \\\n",
    "     (user_choice == \"scissors\" and bot_choice == \"paper\"):\n",
    "    print(\"You win!\")\n",
    "else:\n",
    "    print(\"Bot wins!\")"
   ]
  },
  {
   "cell_type": "code",
   "execution_count": null,
   "id": "a31e5eb2-9e2a-42b9-a1e2-1a20ff16c13a",
   "metadata": {},
   "outputs": [],
   "source": []
  }
 ],
 "metadata": {
  "kernelspec": {
   "display_name": "Python 3 (ipykernel)",
   "language": "python",
   "name": "python3"
  },
  "language_info": {
   "codemirror_mode": {
    "name": "ipython",
    "version": 3
   },
   "file_extension": ".py",
   "mimetype": "text/x-python",
   "name": "python",
   "nbconvert_exporter": "python",
   "pygments_lexer": "ipython3",
   "version": "3.10.9"
  }
 },
 "nbformat": 4,
 "nbformat_minor": 5
}
