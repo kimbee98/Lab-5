{
 "cells": [
  {
   "cell_type": "code",
   "execution_count": 9,
   "id": "2101d8b2-fc30-411a-ad93-16448a3a29cc",
   "metadata": {
    "tags": []
   },
   "outputs": [
    {
     "name": "stdout",
     "output_type": "stream",
     "text": [
      "Let's play rock-paper-scissors!\n",
      "\n"
     ]
    },
    {
     "name": "stdin",
     "output_type": "stream",
     "text": [
      "Choose 'rock', 'paper', or 'scissors', or type 'end' to stop playing:  end\n"
     ]
    },
    {
     "name": "stdout",
     "output_type": "stream",
     "text": [
      "Thanks for playing!\n"
     ]
    }
   ],
   "source": [
    "import random\n",
    "\n",
    "print(\"Let's play rock-paper-scissors!\\n\")\n",
    "# Define the possible choices\n",
    "choices = [\"rock\", \"paper\", \"scissors\"]\n",
    "\n",
    "# Ask the user to choose\n",
    "# Loop will exit if user types 'end'\n",
    "while True:\n",
    "    user_choice = input(\"Choose 'rock', 'paper', or 'scissors', or type 'end' to stop playing: \").lower()\n",
    "    if user_choice == \"end\":\n",
    "        print(\"Thanks for playing!\")\n",
    "        break\n",
    "    elif user_choice not in choices:\n",
    "        print(\"Invalid choice. Try again.\")\n",
    "        continue\n",
    "    # Generate the bots's choice\n",
    "    computer_choice = random.choice(choices)\n",
    "    print(f\"\\nComputer chooses {computer_choice}.\\n\")\n",
    "    # Determine the winner\n",
    "    if user_choice == computer_choice:\n",
    "        print(\"It's a tie!\")\n",
    "    elif (user_choice == \"rock\" and computer_choice == \"scissors\") or \\\n",
    "         (user_choice == \"paper\" and computer_choice == \"rock\") or \\\n",
    "         (user_choice == \"scissors\" and computer_choice == \"paper\"):\n",
    "        print(\"You win!\")\n",
    "    else:\n",
    "        print(\"Computer wins!\")"
   ]
  },
  {
   "cell_type": "code",
   "execution_count": null,
   "id": "a31e5eb2-9e2a-42b9-a1e2-1a20ff16c13a",
   "metadata": {},
   "outputs": [],
   "source": []
  }
 ],
 "metadata": {
  "kernelspec": {
   "display_name": "Python 3 (ipykernel)",
   "language": "python",
   "name": "python3"
  },
  "language_info": {
   "codemirror_mode": {
    "name": "ipython",
    "version": 3
   },
   "file_extension": ".py",
   "mimetype": "text/x-python",
   "name": "python",
   "nbconvert_exporter": "python",
   "pygments_lexer": "ipython3",
   "version": "3.10.9"
  }
 },
 "nbformat": 4,
 "nbformat_minor": 5
}
